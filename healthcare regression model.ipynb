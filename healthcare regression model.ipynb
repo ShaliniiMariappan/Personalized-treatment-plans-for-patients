{
 "cells": [
  {
   "cell_type": "code",
   "execution_count": 3,
   "id": "f8e1a95c",
   "metadata": {},
   "outputs": [],
   "source": [
    "import pandas as pd\n",
    "from sklearn.model_selection import train_test_split\n",
    "from sklearn.ensemble import RandomForestRegressor\n",
    "from sklearn.preprocessing import OneHotEncoder, StandardScaler\n",
    "from sklearn.metrics import mean_squared_error, r2_score"
   ]
  },
  {
   "cell_type": "code",
   "execution_count": 4,
   "id": "e0c75f7c",
   "metadata": {},
   "outputs": [],
   "source": [
    "data= pd.read_csv(\"C:/Shalinii/ml/archive (5)/healthcare_dataset.csv\")"
   ]
  },
  {
   "cell_type": "code",
   "execution_count": 5,
   "id": "c631426f",
   "metadata": {},
   "outputs": [],
   "source": [
    "features = [\n",
    "    'Age', 'Gender', 'Blood Type', 'Medical Condition', \n",
    "    'Admission Type', 'Insurance Provider', 'Room Number'\n",
    "]\n",
    "target = 'Billing Amount'"
   ]
  },
  {
   "cell_type": "code",
   "execution_count": 6,
   "id": "2d242acd",
   "metadata": {},
   "outputs": [],
   "source": [
    "data = data.dropna(subset=[target])"
   ]
  },
  {
   "cell_type": "code",
   "execution_count": 7,
   "id": "03c09371",
   "metadata": {},
   "outputs": [],
   "source": [
    "data = data.fillna(method='ffill')"
   ]
  },
  {
   "cell_type": "code",
   "execution_count": 8,
   "id": "dcff418f",
   "metadata": {},
   "outputs": [],
   "source": [
    "X = data[features]\n",
    "y = data[target]"
   ]
  },
  {
   "cell_type": "code",
   "execution_count": 9,
   "id": "9f71a18d",
   "metadata": {},
   "outputs": [],
   "source": [
    "numerical_features = ['Age', 'Room Number']\n",
    "categorical_features = ['Gender', 'Blood Type', 'Medical Condition', 'Admission Type', 'Insurance Provider']"
   ]
  },
  {
   "cell_type": "code",
   "execution_count": 10,
   "id": "abec1b69",
   "metadata": {},
   "outputs": [],
   "source": [
    "encoder = OneHotEncoder(drop='first', sparse=False)\n",
    "X_cat = encoder.fit_transform(X[categorical_features])"
   ]
  },
  {
   "cell_type": "code",
   "execution_count": 11,
   "id": "efc56777",
   "metadata": {},
   "outputs": [],
   "source": [
    "scaler = StandardScaler()\n",
    "X_num = scaler.fit_transform(X[numerical_features])"
   ]
  },
  {
   "cell_type": "code",
   "execution_count": 12,
   "id": "c1f5aa07",
   "metadata": {},
   "outputs": [],
   "source": [
    "import numpy as np\n",
    "X_processed = np.hstack((X_num, X_cat))"
   ]
  },
  {
   "cell_type": "code",
   "execution_count": 13,
   "id": "d473cc9e",
   "metadata": {},
   "outputs": [],
   "source": [
    "X_train, X_test, y_train, y_test = train_test_split(X_processed, y, test_size=0.2, random_state=42)"
   ]
  },
  {
   "cell_type": "code",
   "execution_count": 14,
   "id": "367455da",
   "metadata": {},
   "outputs": [],
   "source": [
    "model = RandomForestRegressor(random_state=42)"
   ]
  },
  {
   "cell_type": "code",
   "execution_count": 15,
   "id": "90a21c38",
   "metadata": {},
   "outputs": [
    {
     "data": {
      "text/plain": [
       "RandomForestRegressor(random_state=42)"
      ]
     },
     "execution_count": 15,
     "metadata": {},
     "output_type": "execute_result"
    }
   ],
   "source": [
    "model.fit(X_train, y_train)"
   ]
  },
  {
   "cell_type": "code",
   "execution_count": 16,
   "id": "b06b3563",
   "metadata": {},
   "outputs": [],
   "source": [
    "y_pred = model.predict(X_test)"
   ]
  },
  {
   "cell_type": "code",
   "execution_count": 17,
   "id": "d00dcf9c",
   "metadata": {},
   "outputs": [],
   "source": [
    "mse = mean_squared_error(y_test, y_pred)\n",
    "r2 = r2_score(y_test, y_pred)"
   ]
  },
  {
   "cell_type": "code",
   "execution_count": 18,
   "id": "f93efac8",
   "metadata": {},
   "outputs": [
    {
     "name": "stdout",
     "output_type": "stream",
     "text": [
      "Mean Squared Error: 195452087.29836842\n",
      "R² Score: 0.01738132022215777\n"
     ]
    }
   ],
   "source": [
    "print(f\"Mean Squared Error: {mse}\")\n",
    "print(f\"R² Score: {r2}\")"
   ]
  },
  {
   "cell_type": "code",
   "execution_count": 19,
   "id": "a2a7e678",
   "metadata": {},
   "outputs": [],
   "source": [
    "new_input = {\n",
    "    'Age': 45, \n",
    "    'Gender': 'Male', \n",
    "    'Blood Type': 'A+', \n",
    "    'Medical Condition': 'Diabetes', \n",
    "    'Admission Type': 'Urgent', \n",
    "    'Insurance Provider': 'Medicare', \n",
    "    'Room Number': 320\n",
    "}"
   ]
  },
  {
   "cell_type": "code",
   "execution_count": 20,
   "id": "5fc3697d",
   "metadata": {},
   "outputs": [],
   "source": [
    "new_input_df = pd.DataFrame([new_input])"
   ]
  },
  {
   "cell_type": "code",
   "execution_count": 21,
   "id": "7e584fbb",
   "metadata": {},
   "outputs": [],
   "source": [
    "new_input_cat = encoder.transform(new_input_df[categorical_features])\n",
    "new_input_num = scaler.transform(new_input_df[numerical_features])"
   ]
  },
  {
   "cell_type": "code",
   "execution_count": 22,
   "id": "3b09f02d",
   "metadata": {},
   "outputs": [],
   "source": [
    "new_input_processed = np.hstack((new_input_num, new_input_cat))"
   ]
  },
  {
   "cell_type": "code",
   "execution_count": 23,
   "id": "a71ba21e",
   "metadata": {},
   "outputs": [
    {
     "name": "stdout",
     "output_type": "stream",
     "text": [
      "Predicted Billing Amount: 26557.872707931918\n"
     ]
    }
   ],
   "source": [
    "new_prediction = model.predict(new_input_processed)\n",
    "print(f\"Predicted Billing Amount: {new_prediction[0]}\")"
   ]
  },
  {
   "cell_type": "code",
   "execution_count": null,
   "id": "46bd9ef4",
   "metadata": {},
   "outputs": [],
   "source": []
  }
 ],
 "metadata": {
  "kernelspec": {
   "display_name": "Python 3 (ipykernel)",
   "language": "python",
   "name": "python3"
  },
  "language_info": {
   "codemirror_mode": {
    "name": "ipython",
    "version": 3
   },
   "file_extension": ".py",
   "mimetype": "text/x-python",
   "name": "python",
   "nbconvert_exporter": "python",
   "pygments_lexer": "ipython3",
   "version": "3.9.12"
  }
 },
 "nbformat": 4,
 "nbformat_minor": 5
}
