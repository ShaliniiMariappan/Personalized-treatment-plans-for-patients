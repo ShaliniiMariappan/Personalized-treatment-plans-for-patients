{
 "cells": [
  {
   "cell_type": "code",
   "execution_count": 3,
   "id": "86d0f175",
   "metadata": {},
   "outputs": [],
   "source": [
    "import pandas as pd\n",
    "import numpy as np\n",
    "from sklearn.model_selection import train_test_split\n",
    "from sklearn.preprocessing import LabelEncoder, StandardScaler\n",
    "from sklearn.ensemble import RandomForestClassifier\n",
    "from sklearn.metrics import classification_report, confusion_matrix\n",
    "import matplotlib.pyplot as plt\n",
    "import seaborn as sns"
   ]
  },
  {
   "cell_type": "code",
   "execution_count": 4,
   "id": "7dd0358d",
   "metadata": {},
   "outputs": [],
   "source": [
    "df = pd.read_csv(\"C:/Shalinii/ml/archive (5)/healthcare_dataset.csv\")"
   ]
  },
  {
   "cell_type": "code",
   "execution_count": 5,
   "id": "c42be830",
   "metadata": {},
   "outputs": [],
   "source": [
    "columns_to_use = ['Gender', 'Blood Type', 'Medical Condition', 'Doctor', \n",
    "                  'Hospital', 'Admission Type', 'Medication', 'Insurance Provider', 'Test Results']\n",
    "df = df[columns_to_use]"
   ]
  },
  {
   "cell_type": "code",
   "execution_count": 6,
   "id": "80dc5669",
   "metadata": {},
   "outputs": [],
   "source": [
    "df = df.dropna() "
   ]
  },
  {
   "cell_type": "code",
   "execution_count": 7,
   "id": "1b74f3fb",
   "metadata": {},
   "outputs": [
    {
     "name": "stdout",
     "output_type": "stream",
     "text": [
      "   Gender Blood Type Medical Condition            Doctor  \\\n",
      "0    Male         B-            Cancer     Matthew Smith   \n",
      "1    Male         A+           Obesity   Samantha Davies   \n",
      "2  Female         A-           Obesity  Tiffany Mitchell   \n",
      "3  Female         O+          Diabetes       Kevin Wells   \n",
      "4  Female        AB+            Cancer    Kathleen Hanna   \n",
      "\n",
      "                     Hospital Admission Type   Medication Insurance Provider  \\\n",
      "0             Sons and Miller         Urgent  Paracetamol         Blue Cross   \n",
      "1                     Kim Inc      Emergency    Ibuprofen           Medicare   \n",
      "2                    Cook PLC      Emergency      Aspirin              Aetna   \n",
      "3  Hernandez Rogers and Vang,       Elective    Ibuprofen           Medicare   \n",
      "4                 White-White         Urgent   Penicillin              Aetna   \n",
      "\n",
      "   Test Results  \n",
      "0        Normal  \n",
      "1  Inconclusive  \n",
      "2        Normal  \n",
      "3      Abnormal  \n",
      "4      Abnormal  \n"
     ]
    }
   ],
   "source": [
    "print(df.head())"
   ]
  },
  {
   "cell_type": "code",
   "execution_count": 8,
   "id": "cdcba78f",
   "metadata": {},
   "outputs": [],
   "source": [
    "label_encoders = {}  \n",
    "for column in columns_to_use[:-1]:  \n",
    "    le = LabelEncoder()\n",
    "    df[column] = le.fit_transform(df[column])\n",
    "    label_encoders[column] = le"
   ]
  },
  {
   "cell_type": "code",
   "execution_count": 9,
   "id": "6ece4901",
   "metadata": {},
   "outputs": [],
   "source": [
    "target_encoder = LabelEncoder()\n",
    "df['Test Results'] = target_encoder.fit_transform(df['Test Results'])"
   ]
  },
  {
   "cell_type": "code",
   "execution_count": 10,
   "id": "c343637b",
   "metadata": {},
   "outputs": [],
   "source": [
    "X = df.drop('Test Results', axis=1)\n",
    "y = df['Test Results']"
   ]
  },
  {
   "cell_type": "code",
   "execution_count": 11,
   "id": "0ff179be",
   "metadata": {},
   "outputs": [],
   "source": [
    "X_train, X_test, y_train, y_test = train_test_split(X, y, test_size=0.2, random_state=42)\n"
   ]
  },
  {
   "cell_type": "code",
   "execution_count": 12,
   "id": "83a2f801",
   "metadata": {},
   "outputs": [
    {
     "data": {
      "text/plain": [
       "RandomForestClassifier(random_state=42)"
      ]
     },
     "execution_count": 12,
     "metadata": {},
     "output_type": "execute_result"
    }
   ],
   "source": [
    "model = RandomForestClassifier(random_state=42, n_estimators=100)\n",
    "model.fit(X_train, y_train)"
   ]
  },
  {
   "cell_type": "code",
   "execution_count": 13,
   "id": "047c2438",
   "metadata": {},
   "outputs": [
    {
     "name": "stdout",
     "output_type": "stream",
     "text": [
      "Classification Report:\n",
      "\n",
      "              precision    recall  f1-score   support\n",
      "\n",
      "    Abnormal       0.44      0.46      0.45      3754\n",
      "Inconclusive       0.43      0.42      0.43      3617\n",
      "      Normal       0.44      0.43      0.44      3729\n",
      "\n",
      "    accuracy                           0.44     11100\n",
      "   macro avg       0.44      0.44      0.44     11100\n",
      "weighted avg       0.44      0.44      0.44     11100\n",
      "\n"
     ]
    }
   ],
   "source": [
    "y_pred = model.predict(X_test)\n",
    "print(\"Classification Report:\\n\")\n",
    "print(classification_report(y_test, y_pred, target_names=target_encoder.classes_))"
   ]
  },
  {
   "cell_type": "code",
   "execution_count": 27,
   "id": "0fc33123",
   "metadata": {},
   "outputs": [],
   "source": [
    "new_data = {\n",
    "    'Gender': 'Female',\n",
    "    'Blood Type': 'A+',\n",
    "    'Medical Condition': 'Obesity',\n",
    "    'Doctor': 'Samantha Davies',\n",
    "    'Hospital': 'Kim Inc',\n",
    "    'Admission Type': 'Emergency',\n",
    "    'Medication': 'Ibuprofen',\n",
    "    'Insurance Provider': 'Medicare'\n",
    "}"
   ]
  },
  {
   "cell_type": "code",
   "execution_count": 28,
   "id": "f4fed0bb",
   "metadata": {},
   "outputs": [],
   "source": [
    "encoded_data = []\n",
    "for column, value in new_data.items():\n",
    "    if column in label_encoders:\n",
    "        if value in label_encoders[column].classes_:\n",
    "            encoded_value = label_encoders[column].transform([value])[0]\n",
    "        else:\n",
    "            encoded_value = -1\n",
    "    else:\n",
    "        encoded_value = value\n",
    "    encoded_data.append(encoded_value)\n"
   ]
  },
  {
   "cell_type": "code",
   "execution_count": 29,
   "id": "09c77443",
   "metadata": {},
   "outputs": [],
   "source": [
    "input_array = np.array(encoded_data).reshape(1, -1)"
   ]
  },
  {
   "cell_type": "code",
   "execution_count": 30,
   "id": "b8069430",
   "metadata": {},
   "outputs": [
    {
     "name": "stdout",
     "output_type": "stream",
     "text": [
      "Predicted Test Result: Normal\n"
     ]
    },
    {
     "name": "stderr",
     "output_type": "stream",
     "text": [
      "C:\\Users\\shali\\anaconda3\\lib\\site-packages\\sklearn\\base.py:450: UserWarning: X does not have valid feature names, but RandomForestClassifier was fitted with feature names\n",
      "  warnings.warn(\n"
     ]
    }
   ],
   "source": [
    "prediction = model.predict(input_array)\n",
    "predicted_class = target_encoder.inverse_transform(prediction)\n",
    "\n",
    "print(\"Predicted Test Result:\", predicted_class[0])"
   ]
  },
  {
   "cell_type": "code",
   "execution_count": null,
   "id": "d882da5c",
   "metadata": {},
   "outputs": [],
   "source": []
  }
 ],
 "metadata": {
  "kernelspec": {
   "display_name": "Python 3 (ipykernel)",
   "language": "python",
   "name": "python3"
  },
  "language_info": {
   "codemirror_mode": {
    "name": "ipython",
    "version": 3
   },
   "file_extension": ".py",
   "mimetype": "text/x-python",
   "name": "python",
   "nbconvert_exporter": "python",
   "pygments_lexer": "ipython3",
   "version": "3.9.12"
  }
 },
 "nbformat": 4,
 "nbformat_minor": 5
}
